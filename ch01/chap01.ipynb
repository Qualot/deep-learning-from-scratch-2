{
  "nbformat": 4,
  "nbformat_minor": 0,
  "metadata": {
    "colab": {
      "provenance": [],
      "authorship_tag": "ABX9TyOrt2w66zRjrFngyf2Fcg9M",
      "include_colab_link": true
    },
    "kernelspec": {
      "name": "python3",
      "display_name": "Python 3"
    },
    "language_info": {
      "name": "python"
    }
  },
  "cells": [
    {
      "cell_type": "markdown",
      "metadata": {
        "id": "view-in-github",
        "colab_type": "text"
      },
      "source": [
        "<a href=\"https://colab.research.google.com/github/Qualot/deep-learning-from-scratch-2/blob/colab/ch01/chap01.ipynb\" target=\"_parent\"><img src=\"https://colab.research.google.com/assets/colab-badge.svg\" alt=\"Open In Colab\"/></a>"
      ]
    },
    {
      "cell_type": "code",
      "execution_count": 2,
      "metadata": {
        "id": "_z0ECaaDb8fC"
      },
      "outputs": [],
      "source": [
        "import numpy as np"
      ]
    },
    {
      "cell_type": "code",
      "source": [
        "x = np.array([1, 2, 3])\n",
        "x.__class__"
      ],
      "metadata": {
        "id": "on9R50MnkSnF",
        "outputId": "1dcebf6c-259b-4d8e-9e80-3084782e9544",
        "colab": {
          "base_uri": "https://localhost:8080/"
        }
      },
      "execution_count": null,
      "outputs": [
        {
          "output_type": "execute_result",
          "data": {
            "text/plain": [
              "numpy.ndarray"
            ]
          },
          "metadata": {},
          "execution_count": 2
        }
      ]
    },
    {
      "cell_type": "code",
      "source": [
        "x.shape"
      ],
      "metadata": {
        "id": "tzmcirlck_a6",
        "outputId": "3a6d2b57-9034-480b-d176-c418d304e1de",
        "colab": {
          "base_uri": "https://localhost:8080/"
        }
      },
      "execution_count": null,
      "outputs": [
        {
          "output_type": "execute_result",
          "data": {
            "text/plain": [
              "(3,)"
            ]
          },
          "metadata": {},
          "execution_count": 3
        }
      ]
    },
    {
      "cell_type": "code",
      "source": [
        "x.ndim"
      ],
      "metadata": {
        "id": "Xg90x7ynlAY2",
        "outputId": "6b3090de-0d7a-46a2-8e3a-78c4b69e8410",
        "colab": {
          "base_uri": "https://localhost:8080/"
        }
      },
      "execution_count": null,
      "outputs": [
        {
          "output_type": "execute_result",
          "data": {
            "text/plain": [
              "1"
            ]
          },
          "metadata": {},
          "execution_count": 4
        }
      ]
    },
    {
      "cell_type": "code",
      "source": [
        "W = np.array([[1, 2, 3], [4, 5, 6]])"
      ],
      "metadata": {
        "id": "72ZHJFDHlBfy"
      },
      "execution_count": null,
      "outputs": []
    },
    {
      "cell_type": "code",
      "source": [
        "W.shape"
      ],
      "metadata": {
        "id": "MneG_63ulJOS",
        "outputId": "98c1f3e9-87f0-4889-9f9e-d056a7194c02",
        "colab": {
          "base_uri": "https://localhost:8080/"
        }
      },
      "execution_count": null,
      "outputs": [
        {
          "output_type": "execute_result",
          "data": {
            "text/plain": [
              "(2, 3)"
            ]
          },
          "metadata": {},
          "execution_count": 6
        }
      ]
    },
    {
      "cell_type": "code",
      "source": [
        "W.ndim"
      ],
      "metadata": {
        "id": "tAg5b-walKVc",
        "outputId": "b723171a-37f9-47aa-8818-67359dbc2b95",
        "colab": {
          "base_uri": "https://localhost:8080/"
        }
      },
      "execution_count": null,
      "outputs": [
        {
          "output_type": "execute_result",
          "data": {
            "text/plain": [
              "2"
            ]
          },
          "metadata": {},
          "execution_count": 7
        }
      ]
    },
    {
      "cell_type": "code",
      "source": [
        "W = np.array([[1, 2, 3], [4, 5, 6]])\n",
        "X = np.array([[0, 1, 2], [3, 4, 5]])\n",
        "print(W+X)\n",
        "print(W* X)"
      ],
      "metadata": {
        "id": "QGSseS7xlKyx",
        "outputId": "200d0350-2230-414f-9e50-913aa1e25c3d",
        "colab": {
          "base_uri": "https://localhost:8080/"
        }
      },
      "execution_count": null,
      "outputs": [
        {
          "output_type": "stream",
          "name": "stdout",
          "text": [
            "[[ 1  3  5]\n",
            " [ 7  9 11]]\n",
            "[[ 0  2  6]\n",
            " [12 20 30]]\n"
          ]
        }
      ]
    },
    {
      "cell_type": "code",
      "source": [
        "A = np.array([[1, 2], [3, 4]])\n",
        "A * 10"
      ],
      "metadata": {
        "id": "z7ouBTmTlpy7",
        "outputId": "8bbe2722-6380-49d8-8f47-28242b9cbf11",
        "colab": {
          "base_uri": "https://localhost:8080/"
        }
      },
      "execution_count": null,
      "outputs": [
        {
          "output_type": "execute_result",
          "data": {
            "text/plain": [
              "array([[10, 20],\n",
              "       [30, 40]])"
            ]
          },
          "metadata": {},
          "execution_count": 10
        }
      ]
    },
    {
      "cell_type": "code",
      "source": [
        "A = np.array([[1, 2], [3, 4]])\n",
        "B = np.array([10, 20])\n",
        "A * B"
      ],
      "metadata": {
        "id": "HEuz9ZmFnpSM",
        "outputId": "d446ef19-8c86-4636-b326-2bbb86f37770",
        "colab": {
          "base_uri": "https://localhost:8080/"
        }
      },
      "execution_count": null,
      "outputs": [
        {
          "output_type": "execute_result",
          "data": {
            "text/plain": [
              "array([[10, 40],\n",
              "       [30, 80]])"
            ]
          },
          "metadata": {},
          "execution_count": 11
        }
      ]
    },
    {
      "cell_type": "code",
      "source": [
        "W1 = np.random.randn(2, 4)\n",
        "b1 = np.random.randn(4)\n",
        "x = np.random.randn(10, 2)\n",
        "h = np.dot(x, W1) + b1\n",
        "print(h)"
      ],
      "metadata": {
        "id": "6ZZ6Nat3nypI",
        "outputId": "232c92be-893b-4d4d-ed47-e55401771499",
        "colab": {
          "base_uri": "https://localhost:8080/"
        }
      },
      "execution_count": 4,
      "outputs": [
        {
          "output_type": "stream",
          "name": "stdout",
          "text": [
            "[[-1.67517324 -1.2606311   0.4321473   0.44368759]\n",
            " [-0.02687786  0.06616517 -1.42056922  0.55896597]\n",
            " [-1.31690317 -0.94554592 -0.09483314  0.44383855]\n",
            " [ 0.86858585  0.41160103 -0.67960431  0.97179479]\n",
            " [ 0.30574977 -0.02245881 -0.13539628  0.91470935]\n",
            " [ 0.66084486  0.51764602 -1.71825918  0.70232048]\n",
            " [-2.47597737 -2.3248803   3.28586019  0.77918801]\n",
            " [-0.89291228 -0.40244581 -1.51090344  0.28521323]\n",
            " [-0.89253765 -0.54627438 -0.84034306  0.4197065 ]\n",
            " [-0.26641457  0.20671675 -2.70327647  0.23119674]]\n"
          ]
        }
      ]
    }
  ]
}