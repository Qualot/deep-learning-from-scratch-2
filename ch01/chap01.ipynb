{
  "nbformat": 4,
  "nbformat_minor": 0,
  "metadata": {
    "colab": {
      "provenance": [],
      "authorship_tag": "ABX9TyO8CIwdO7Zy55hozu/XMTIV",
      "include_colab_link": true
    },
    "kernelspec": {
      "name": "python3",
      "display_name": "Python 3"
    },
    "language_info": {
      "name": "python"
    }
  },
  "cells": [
    {
      "cell_type": "markdown",
      "metadata": {
        "id": "view-in-github",
        "colab_type": "text"
      },
      "source": [
        "<a href=\"https://colab.research.google.com/github/Qualot/deep-learning-from-scratch-2/blob/colab/ch01/chap01.ipynb\" target=\"_parent\"><img src=\"https://colab.research.google.com/assets/colab-badge.svg\" alt=\"Open In Colab\"/></a>"
      ]
    },
    {
      "cell_type": "code",
      "execution_count": 18,
      "metadata": {
        "id": "_z0ECaaDb8fC"
      },
      "outputs": [],
      "source": [
        "import numpy as np\n",
        "import matplotlib.pyplot as plt"
      ]
    },
    {
      "cell_type": "code",
      "source": [
        "x = np.array([1, 2, 3])\n",
        "x.__class__"
      ],
      "metadata": {
        "id": "on9R50MnkSnF",
        "outputId": "45be2d0e-5a42-48dc-b976-61d9d43019a1",
        "colab": {
          "base_uri": "https://localhost:8080/"
        }
      },
      "execution_count": 19,
      "outputs": [
        {
          "output_type": "execute_result",
          "data": {
            "text/plain": [
              "numpy.ndarray"
            ]
          },
          "metadata": {},
          "execution_count": 19
        }
      ]
    },
    {
      "cell_type": "code",
      "source": [
        "x.shape"
      ],
      "metadata": {
        "id": "tzmcirlck_a6",
        "outputId": "ab6b9814-b331-415f-a453-0d53d0708fa8",
        "colab": {
          "base_uri": "https://localhost:8080/"
        }
      },
      "execution_count": 20,
      "outputs": [
        {
          "output_type": "execute_result",
          "data": {
            "text/plain": [
              "(3,)"
            ]
          },
          "metadata": {},
          "execution_count": 20
        }
      ]
    },
    {
      "cell_type": "code",
      "source": [
        "x.ndim"
      ],
      "metadata": {
        "id": "Xg90x7ynlAY2",
        "outputId": "3c067b97-59ae-4880-96a8-944fa8c6048b",
        "colab": {
          "base_uri": "https://localhost:8080/"
        }
      },
      "execution_count": 21,
      "outputs": [
        {
          "output_type": "execute_result",
          "data": {
            "text/plain": [
              "1"
            ]
          },
          "metadata": {},
          "execution_count": 21
        }
      ]
    },
    {
      "cell_type": "code",
      "source": [
        "W = np.array([[1, 2, 3], [4, 5, 6]])"
      ],
      "metadata": {
        "id": "72ZHJFDHlBfy"
      },
      "execution_count": 22,
      "outputs": []
    },
    {
      "cell_type": "code",
      "source": [
        "W.shape"
      ],
      "metadata": {
        "id": "MneG_63ulJOS",
        "outputId": "61bf2716-4141-4089-bba6-d121d6ee3952",
        "colab": {
          "base_uri": "https://localhost:8080/"
        }
      },
      "execution_count": 23,
      "outputs": [
        {
          "output_type": "execute_result",
          "data": {
            "text/plain": [
              "(2, 3)"
            ]
          },
          "metadata": {},
          "execution_count": 23
        }
      ]
    },
    {
      "cell_type": "code",
      "source": [
        "W.ndim"
      ],
      "metadata": {
        "id": "tAg5b-walKVc",
        "outputId": "1c97bfb8-e7a5-472b-8dc5-c081b909c9ff",
        "colab": {
          "base_uri": "https://localhost:8080/"
        }
      },
      "execution_count": 24,
      "outputs": [
        {
          "output_type": "execute_result",
          "data": {
            "text/plain": [
              "2"
            ]
          },
          "metadata": {},
          "execution_count": 24
        }
      ]
    },
    {
      "cell_type": "code",
      "source": [
        "W = np.array([[1, 2, 3], [4, 5, 6]])\n",
        "X = np.array([[0, 1, 2], [3, 4, 5]])\n",
        "print(W+X)\n",
        "print(W* X)"
      ],
      "metadata": {
        "id": "QGSseS7xlKyx",
        "outputId": "bc4df995-091f-4684-dd7b-57ff7b5024fd",
        "colab": {
          "base_uri": "https://localhost:8080/"
        }
      },
      "execution_count": 25,
      "outputs": [
        {
          "output_type": "stream",
          "name": "stdout",
          "text": [
            "[[ 1  3  5]\n",
            " [ 7  9 11]]\n",
            "[[ 0  2  6]\n",
            " [12 20 30]]\n"
          ]
        }
      ]
    },
    {
      "cell_type": "code",
      "source": [
        "A = np.array([[1, 2], [3, 4]])\n",
        "A * 10"
      ],
      "metadata": {
        "id": "z7ouBTmTlpy7",
        "outputId": "c2f35eb4-38b5-401e-9e5d-22559264e2da",
        "colab": {
          "base_uri": "https://localhost:8080/"
        }
      },
      "execution_count": 26,
      "outputs": [
        {
          "output_type": "execute_result",
          "data": {
            "text/plain": [
              "array([[10, 20],\n",
              "       [30, 40]])"
            ]
          },
          "metadata": {},
          "execution_count": 26
        }
      ]
    },
    {
      "cell_type": "code",
      "source": [
        "A = np.array([[1, 2], [3, 4]])\n",
        "B = np.array([10, 20])\n",
        "A * B"
      ],
      "metadata": {
        "id": "HEuz9ZmFnpSM",
        "outputId": "5b6fb3df-65f0-4414-d142-ee57ce11ee44",
        "colab": {
          "base_uri": "https://localhost:8080/"
        }
      },
      "execution_count": 27,
      "outputs": [
        {
          "output_type": "execute_result",
          "data": {
            "text/plain": [
              "array([[10, 40],\n",
              "       [30, 80]])"
            ]
          },
          "metadata": {},
          "execution_count": 27
        }
      ]
    },
    {
      "cell_type": "code",
      "source": [
        "W1 = np.random.randn(2, 4)\n",
        "b1 = np.random.randn(4)\n",
        "x = np.random.randn(10, 2)\n",
        "h = np.dot(x, W1) + b1\n",
        "print(h)"
      ],
      "metadata": {
        "id": "6ZZ6Nat3nypI",
        "colab": {
          "base_uri": "https://localhost:8080/"
        },
        "outputId": "aa6c21a7-a258-4bae-d6a7-56020b9549f3"
      },
      "execution_count": 28,
      "outputs": [
        {
          "output_type": "stream",
          "name": "stdout",
          "text": [
            "[[-0.34848882  0.3600051  -0.33140302  1.59737194]\n",
            " [-0.91533262 -0.12616547 -1.55718727  2.03331246]\n",
            " [ 0.41885216  1.71763757  2.342532    2.13067364]\n",
            " [-0.1778322   0.9337555   0.65752812  2.15252605]\n",
            " [ 0.15288376 -0.53908799 -1.17499151 -0.92284718]\n",
            " [-0.27663529  0.91982739  0.54657952  2.3422426 ]\n",
            " [ 0.14036768  1.94020778  2.40957945  3.08591593]\n",
            " [ 0.53848752  0.67918701  0.9462035   0.20605673]\n",
            " [ 0.04007791 -0.93329463 -1.85037178 -1.31382295]\n",
            " [-1.92374919 -0.9423001  -3.66713128  2.88716972]]\n"
          ]
        }
      ]
    },
    {
      "cell_type": "markdown",
      "source": [
        "#Sigmoid"
      ],
      "metadata": {
        "id": "E5-9x0mFeMJC"
      }
    },
    {
      "cell_type": "code",
      "source": [
        "def sigmoid(x):\n",
        "  return 1 / (1 + np.exp(-x))"
      ],
      "metadata": {
        "id": "dU67z0zueOoH"
      },
      "execution_count": 29,
      "outputs": []
    },
    {
      "cell_type": "code",
      "source": [
        "x = np.random.randn(10, 2)\n",
        "W1 = np.random.randn(2, 4)\n",
        "b1 = np.random.randn(4)\n",
        "W2 = np.random.randn(4, 3)\n",
        "b2 = np.random.randn(3)\n",
        "h = np.dot(x, W1) + b1\n",
        "a = sigmoid(h)\n",
        "s = np.dot(a, W2) + b2\n",
        "print(s)"
      ],
      "metadata": {
        "id": "y30WR1XFeU3q",
        "colab": {
          "base_uri": "https://localhost:8080/"
        },
        "outputId": "54dfb5af-1093-4cdd-c76c-c8b402e17f07"
      },
      "execution_count": 30,
      "outputs": [
        {
          "output_type": "stream",
          "name": "stdout",
          "text": [
            "[[ 2.29406337  0.09496607 -1.79260591]\n",
            " [ 2.55054085 -0.13610565 -2.09811825]\n",
            " [ 2.63642963  0.37765802 -1.34328842]\n",
            " [ 2.7316739   0.17702073 -1.64927918]\n",
            " [ 2.692889    0.36871971 -1.33769859]\n",
            " [ 2.3845725   0.0397765  -1.86930531]\n",
            " [ 3.00867945  0.47734643 -0.92976017]\n",
            " [ 1.73673376  0.16870319 -1.61338368]\n",
            " [ 2.5532112   0.26324396 -1.55504888]\n",
            " [ 1.84674383  0.01500637 -1.81661834]]\n"
          ]
        }
      ]
    },
    {
      "cell_type": "markdown",
      "source": [
        "#Plot example"
      ],
      "metadata": {
        "id": "AphKOk8B51KX"
      }
    },
    {
      "cell_type": "code",
      "source": [
        "x = np.linspace(-10, 10, 101)\n",
        "y = sigmoid(x)\n",
        "print(x)\n",
        "print(y)\n",
        "\n",
        "# Plot the function\n",
        "plt.plot(x, y)\n",
        "\n",
        "# Add labels and title\n",
        "plt.xlabel('x')\n",
        "plt.ylabel('y')\n",
        "plt.title('Plot of y = sigmoid(x)')\n",
        "\n",
        "# Show the plot\n",
        "plt.grid(True)\n",
        "plt.show()"
      ],
      "metadata": {
        "colab": {
          "base_uri": "https://localhost:8080/",
          "height": 1000
        },
        "id": "7uKKMH-45gkK",
        "outputId": "aba9f01f-7898-4b78-991c-828b45f848fc"
      },
      "execution_count": 31,
      "outputs": [
        {
          "output_type": "stream",
          "name": "stdout",
          "text": [
            "[-10.   -9.8  -9.6  -9.4  -9.2  -9.   -8.8  -8.6  -8.4  -8.2  -8.   -7.8\n",
            "  -7.6  -7.4  -7.2  -7.   -6.8  -6.6  -6.4  -6.2  -6.   -5.8  -5.6  -5.4\n",
            "  -5.2  -5.   -4.8  -4.6  -4.4  -4.2  -4.   -3.8  -3.6  -3.4  -3.2  -3.\n",
            "  -2.8  -2.6  -2.4  -2.2  -2.   -1.8  -1.6  -1.4  -1.2  -1.   -0.8  -0.6\n",
            "  -0.4  -0.2   0.    0.2   0.4   0.6   0.8   1.    1.2   1.4   1.6   1.8\n",
            "   2.    2.2   2.4   2.6   2.8   3.    3.2   3.4   3.6   3.8   4.    4.2\n",
            "   4.4   4.6   4.8   5.    5.2   5.4   5.6   5.8   6.    6.2   6.4   6.6\n",
            "   6.8   7.    7.2   7.4   7.6   7.8   8.    8.2   8.4   8.6   8.8   9.\n",
            "   9.2   9.4   9.6   9.8  10. ]\n",
            "[4.53978687e-05 5.54485247e-05 6.77241496e-05 8.27172229e-05\n",
            " 1.01029194e-04 1.23394576e-04 1.50710358e-04 1.84071905e-04\n",
            " 2.24816770e-04 2.74578156e-04 3.35350130e-04 4.09567165e-04\n",
            " 5.00201107e-04 6.10879359e-04 7.46028834e-04 9.11051194e-04\n",
            " 1.11253603e-03 1.35851995e-03 1.65880108e-03 2.02532039e-03\n",
            " 2.47262316e-03 3.01841632e-03 3.68423990e-03 4.49627316e-03\n",
            " 5.48629890e-03 6.69285092e-03 8.16257115e-03 9.95180187e-03\n",
            " 1.21284350e-02 1.47740317e-02 1.79862100e-02 2.18812709e-02\n",
            " 2.65969936e-02 3.22954647e-02 3.91657228e-02 4.74258732e-02\n",
            " 5.73241759e-02 6.91384203e-02 8.31726965e-02 9.97504891e-02\n",
            " 1.19202922e-01 1.41851065e-01 1.67981615e-01 1.97816111e-01\n",
            " 2.31475217e-01 2.68941421e-01 3.10025519e-01 3.54343694e-01\n",
            " 4.01312340e-01 4.50166003e-01 5.00000000e-01 5.49833997e-01\n",
            " 5.98687660e-01 6.45656306e-01 6.89974481e-01 7.31058579e-01\n",
            " 7.68524783e-01 8.02183889e-01 8.32018385e-01 8.58148935e-01\n",
            " 8.80797078e-01 9.00249511e-01 9.16827304e-01 9.30861580e-01\n",
            " 9.42675824e-01 9.52574127e-01 9.60834277e-01 9.67704535e-01\n",
            " 9.73403006e-01 9.78118729e-01 9.82013790e-01 9.85225968e-01\n",
            " 9.87871565e-01 9.90048198e-01 9.91837429e-01 9.93307149e-01\n",
            " 9.94513701e-01 9.95503727e-01 9.96315760e-01 9.96981584e-01\n",
            " 9.97527377e-01 9.97974680e-01 9.98341199e-01 9.98641480e-01\n",
            " 9.98887464e-01 9.99088949e-01 9.99253971e-01 9.99389121e-01\n",
            " 9.99499799e-01 9.99590433e-01 9.99664650e-01 9.99725422e-01\n",
            " 9.99775183e-01 9.99815928e-01 9.99849290e-01 9.99876605e-01\n",
            " 9.99898971e-01 9.99917283e-01 9.99932276e-01 9.99944551e-01\n",
            " 9.99954602e-01]\n"
          ]
        },
        {
          "output_type": "display_data",
          "data": {
            "text/plain": [
              "<Figure size 640x480 with 1 Axes>"
            ],
            "image/png": "[encoded data removed]"
          },
          "metadata": {}
        }
      ]
    },
    {
      "cell_type": "markdown",
      "source": [
        "#Sigmoid class"
      ],
      "metadata": {
        "id": "yRL47C46rUlx"
      }
    },
    {
      "cell_type": "code",
      "source": [
        "class Sigmoid:\n",
        "  def __init__(self):\n",
        "    self.params = []\n",
        "\n",
        "  def forward(self, x):\n",
        "    return 1 / (1 + np.exp(-x))"
      ],
      "metadata": {
        "id": "qlQJchbc59Hp"
      },
      "execution_count": 32,
      "outputs": []
    },
    {
      "cell_type": "markdown",
      "source": [
        "#Affine"
      ],
      "metadata": {
        "id": "tF5QEltXrcbp"
      }
    },
    {
      "cell_type": "code",
      "source": [
        "class Affine:\n",
        "  def __init__(self, W, b):\n",
        "    self.params = [W, b]\n",
        "\n",
        "  def forward(self, x):\n",
        "    W, b = self.params\n",
        "    out = np.dot(x, W) + b\n",
        "    return out"
      ],
      "metadata": {
        "id": "uBNAHcsorT1b"
      },
      "execution_count": 33,
      "outputs": []
    },
    {
      "cell_type": "markdown",
      "source": [
        "#TwoLayerNet"
      ],
      "metadata": {
        "id": "Nc1IhrbExPyo"
      }
    },
    {
      "cell_type": "code",
      "source": [
        "class TwoLayerNet:\n",
        "  def __init__(self, input_size, hidden_size, output_size):\n",
        "    I, H, O = input_size, hidden_size, output_size\n",
        "\n",
        "    #initialize weight and bias\n",
        "    W1 = np.random.randn(I, H)\n",
        "    b1 = np.random.randn(H)\n",
        "    W2 = np.random.randn(H, O)\n",
        "    b2 = np.random.randn(O)\n",
        "\n",
        "    #layer generation\n",
        "    self.layers = [\n",
        "        Affine(W1, b1),\n",
        "        Sigmoid(),\n",
        "        Affine(W2, b2)\n",
        "    ]\n",
        "\n",
        "    #conjugate to a list\n",
        "    self.params = []\n",
        "    for layer in self.layers:\n",
        "      self.params += layer.params\n",
        "\n",
        "  def predict(self, x):\n",
        "    for layer in self.layers:\n",
        "      x = layer.forward(x)\n",
        "    return x"
      ],
      "metadata": {
        "id": "FAV26U7BroZM"
      },
      "execution_count": 34,
      "outputs": []
    },
    {
      "cell_type": "code",
      "source": [
        "x = np.random.randn(10, 2)\n",
        "model = TwoLayerNet(2, 4, 3)\n",
        "s = model.predict(x)"
      ],
      "metadata": {
        "id": "INO6JO1Jyx9B"
      },
      "execution_count": 35,
      "outputs": []
    },
    {
      "cell_type": "code",
      "source": [
        "print(s)"
      ],
      "metadata": {
        "id": "J01JtPIT1ltb",
        "outputId": "dcbbc08b-ab62-498a-f73c-71eb9a1762dd",
        "colab": {
          "base_uri": "https://localhost:8080/"
        }
      },
      "execution_count": 36,
      "outputs": [
        {
          "output_type": "stream",
          "name": "stdout",
          "text": [
            "[[ 0.80354799  1.73290754 -2.43461981]\n",
            " [ 0.65476606  1.73511892 -2.42142382]\n",
            " [ 0.74161168  1.73131606 -2.4869593 ]\n",
            " [ 1.26285239  1.69215842 -3.19069484]\n",
            " [ 0.7246089   1.73221639 -2.47398466]\n",
            " [ 1.48952184  1.66713048 -3.31434094]\n",
            " [ 0.9722747   1.70171386 -2.75391583]\n",
            " [ 1.30845878  1.67989129 -3.16648556]\n",
            " [-0.0255061   1.44800781 -1.87212491]\n",
            " [ 1.47750274  1.70818687 -3.39751021]]\n"
          ]
        }
      ]
    },
    {
      "cell_type": "code",
      "source": [],
      "metadata": {
        "id": "_55T50YG1myo"
      },
      "execution_count": null,
      "outputs": []
    }
  ]
}